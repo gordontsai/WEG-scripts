{
 "cells": [
  {
   "cell_type": "code",
   "execution_count": 39,
   "metadata": {
    "collapsed": false,
    "scrolled": true
   },
   "outputs": [],
   "source": [
    "from scipy import stats as st\n",
    "import pandas as pd\n",
    "from fitter import Fitter\n",
    "import matplotlib.pyplot as plt\n",
    "import numpy as np\n",
    "import collections as ct\n",
    "from collections import OrderedDict\n",
    "from collections import defaultdict\n",
    "\n",
    "distribution_income = pd.read_csv('IncomeDistribution 20170306gt.csv', header= 0)\n",
    "distribution_income = pd.DataFrame(distribution_income)\n",
    "distribution_income = distribution_income[np.isfinite(distribution_income)]\n",
    "data = distribution_income\n",
    "data = data[np.isfinite(data)]\n",
    "#data = distribution_income.ix[:,2:3]"
   ]
  },
  {
   "cell_type": "code",
   "execution_count": 12,
   "metadata": {
    "collapsed": false
   },
   "outputs": [
    {
     "data": {
      "text/html": [
       "<div>\n",
       "<table border=\"1\" class=\"dataframe\">\n",
       "  <thead>\n",
       "    <tr style=\"text-align: right;\">\n",
       "      <th></th>\n",
       "      <th>Dummy</th>\n",
       "      <th>Compensation Greater Than</th>\n",
       "      <th>Compensation Less Than</th>\n",
       "      <th>Number</th>\n",
       "    </tr>\n",
       "  </thead>\n",
       "  <tbody>\n",
       "    <tr>\n",
       "      <th>0</th>\n",
       "      <td>1</td>\n",
       "      <td>0</td>\n",
       "      <td>5000</td>\n",
       "      <td>22574440</td>\n",
       "    </tr>\n",
       "    <tr>\n",
       "      <th>1</th>\n",
       "      <td>2</td>\n",
       "      <td>5000</td>\n",
       "      <td>10000</td>\n",
       "      <td>13848841</td>\n",
       "    </tr>\n",
       "    <tr>\n",
       "      <th>2</th>\n",
       "      <td>3</td>\n",
       "      <td>10000</td>\n",
       "      <td>15000</td>\n",
       "      <td>12329270</td>\n",
       "    </tr>\n",
       "    <tr>\n",
       "      <th>3</th>\n",
       "      <td>4</td>\n",
       "      <td>15000</td>\n",
       "      <td>20000</td>\n",
       "      <td>11505776</td>\n",
       "    </tr>\n",
       "    <tr>\n",
       "      <th>4</th>\n",
       "      <td>5</td>\n",
       "      <td>20000</td>\n",
       "      <td>25000</td>\n",
       "      <td>10918555</td>\n",
       "    </tr>\n",
       "  </tbody>\n",
       "</table>\n",
       "</div>"
      ],
      "text/plain": [
       "   Dummy  Compensation Greater Than  Compensation Less Than    Number\n",
       "0      1                          0                    5000  22574440\n",
       "1      2                       5000                   10000  13848841\n",
       "2      3                      10000                   15000  12329270\n",
       "3      4                      15000                   20000  11505776\n",
       "4      5                      20000                   25000  10918555"
      ]
     },
     "execution_count": 12,
     "metadata": {},
     "output_type": "execute_result"
    }
   ],
   "source": [
    "data.head()"
   ]
  },
  {
   "cell_type": "code",
   "execution_count": 13,
   "metadata": {
    "collapsed": false
   },
   "outputs": [],
   "source": [
    "data['Number'] = data['Number'].apply(lambda x: int(round(x/10000)))"
   ]
  },
  {
   "cell_type": "code",
   "execution_count": 14,
   "metadata": {
    "collapsed": false
   },
   "outputs": [],
   "source": [
    "data = data.ix[:,1:]"
   ]
  },
  {
   "cell_type": "code",
   "execution_count": 15,
   "metadata": {
    "collapsed": false
   },
   "outputs": [
    {
     "data": {
      "text/html": [
       "<div>\n",
       "<table border=\"1\" class=\"dataframe\">\n",
       "  <thead>\n",
       "    <tr style=\"text-align: right;\">\n",
       "      <th></th>\n",
       "      <th>Compensation Greater Than</th>\n",
       "      <th>Compensation Less Than</th>\n",
       "      <th>Number</th>\n",
       "    </tr>\n",
       "  </thead>\n",
       "  <tbody>\n",
       "    <tr>\n",
       "      <th>0</th>\n",
       "      <td>0</td>\n",
       "      <td>5000</td>\n",
       "      <td>2257</td>\n",
       "    </tr>\n",
       "    <tr>\n",
       "      <th>1</th>\n",
       "      <td>5000</td>\n",
       "      <td>10000</td>\n",
       "      <td>1384</td>\n",
       "    </tr>\n",
       "    <tr>\n",
       "      <th>2</th>\n",
       "      <td>10000</td>\n",
       "      <td>15000</td>\n",
       "      <td>1232</td>\n",
       "    </tr>\n",
       "    <tr>\n",
       "      <th>3</th>\n",
       "      <td>15000</td>\n",
       "      <td>20000</td>\n",
       "      <td>1150</td>\n",
       "    </tr>\n",
       "    <tr>\n",
       "      <th>4</th>\n",
       "      <td>20000</td>\n",
       "      <td>25000</td>\n",
       "      <td>1091</td>\n",
       "    </tr>\n",
       "  </tbody>\n",
       "</table>\n",
       "</div>"
      ],
      "text/plain": [
       "   Compensation Greater Than  Compensation Less Than  Number\n",
       "0                          0                    5000    2257\n",
       "1                       5000                   10000    1384\n",
       "2                      10000                   15000    1232\n",
       "3                      15000                   20000    1150\n",
       "4                      20000                   25000    1091"
      ]
     },
     "execution_count": 15,
     "metadata": {},
     "output_type": "execute_result"
    }
   ],
   "source": [
    "data.head()"
   ]
  },
  {
   "cell_type": "code",
   "execution_count": 16,
   "metadata": {
    "collapsed": false
   },
   "outputs": [],
   "source": [
    "lower_bound = []\n",
    "upper_bound = []\n",
    "number_people = []\n",
    "count = 0\n",
    "count2 = 0\n",
    "for i in range(0,len(data)):\n",
    "#for i in range(0,len(data.ix[:,1])):\n",
    "    if data.ix[i,1]-data.ix[i,0] == 5000:\n",
    "        lower_bound.append(data.ix[i,0])\n",
    "        upper_bound.append(data.ix[i,1])\n",
    "        number_people.append(data.ix[i,2])\n",
    "    else:\n",
    "#         print 'Col 1 is', data.ix[i,1]\n",
    "#         print 'Col 0 is', data.ix[i,0]\n",
    "#         print 'Difference is', data.ix[i,1]-data.ix[i,0]\n",
    "        buckets = (data.ix[i,1]-data.ix[i,0])/5000\n",
    "        initial = data.ix[i,0]\n",
    "        count = data.ix[i,2]\n",
    "        for j in range(0,int(buckets)):\n",
    "#             print count2\n",
    "            lower_bound.append(initial)\n",
    "            upper_bound.append(initial + 5000)\n",
    "            if data.ix[i,2]/buckets == 0:\n",
    "                if count == 0:\n",
    "                    value = 0\n",
    "                else:\n",
    "                    value = 1\n",
    "                    count = count - 1\n",
    "                number_people.append(value)\n",
    "            else:\n",
    "                number_people.append(data.ix[i,2]/buckets)\n",
    "            initial = initial + 5000\n",
    "        \n",
    "# print lower_bound"
   ]
  },
  {
   "cell_type": "code",
   "execution_count": 18,
   "metadata": {
    "collapsed": true
   },
   "outputs": [],
   "source": [
    "average = []\n",
    "for i in range(len(lower_bound)):\n",
    "    average.append((lower_bound[i]+upper_bound[i])/2)"
   ]
  },
  {
   "cell_type": "code",
   "execution_count": 20,
   "metadata": {
    "collapsed": false
   },
   "outputs": [],
   "source": [
    "#temp = pd.DataFrame(lower_bound, upper_bound,number_people)\n",
    "temp = OrderedDict([('Lower Bound', lower_bound),\n",
    "          ('Upper Bound', upper_bound),('Average',average),\n",
    "          ( 'Number of People',  number_people)])\n",
    "# temp = OrderedDict([('Dollar Value', average),\n",
    "#            ( 'Number of People',  number_people)])\n",
    "\n",
    "df = pd.DataFrame(\n",
    "    {'Lower Bound': lower_bound,\n",
    "     'Upper Bound': upper_bound,\n",
    "     'Average': average,\n",
    "     'Number of People': number_people\n",
    "    })"
   ]
  },
  {
   "cell_type": "code",
   "execution_count": 23,
   "metadata": {
    "collapsed": false,
    "scrolled": true
   },
   "outputs": [
    {
     "name": "stdout",
     "output_type": "stream",
     "text": [
      "Count 10000\n",
      "42500\n"
     ]
    }
   ],
   "source": [
    "dataset = []\n",
    "count = 0 \n",
    "for i in range(0,len(df)):\n",
    "    for j in range(0,int(df.ix[i,2])):\n",
    "        if df.ix[i,2] != 0:\n",
    "            dataset.append(df.ix[i,0])\n",
    "            count += 1\n",
    "        if count%10000 == 0:\n",
    "            print 'Count', count\n",
    "            print df.ix[i,0]"
   ]
  },
  {
   "cell_type": "code",
   "execution_count": 46,
   "metadata": {
    "collapsed": false
   },
   "outputs": [],
   "source": [
    "d = defaultdict(int)\n",
    "\n",
    "for i in range(0,len(dataset)):\n",
    "    d[dataset[i]] += 1"
   ]
  },
  {
   "cell_type": "code",
   "execution_count": 47,
   "metadata": {
    "collapsed": false,
    "scrolled": true
   },
   "outputs": [
    {
     "data": {
      "text/plain": [
       "defaultdict(int,\n",
       "            {2500: 2257,\n",
       "             7500: 1384,\n",
       "             12500: 1232,\n",
       "             17500: 1150,\n",
       "             22500: 1091,\n",
       "             27500: 1019,\n",
       "             32500: 948,\n",
       "             37500: 857,\n",
       "             42500: 755,\n",
       "             47500: 654,\n",
       "             52500: 572,\n",
       "             57500: 484,\n",
       "             62500: 420,\n",
       "             67500: 357,\n",
       "             72500: 309,\n",
       "             77500: 268,\n",
       "             82500: 229,\n",
       "             87500: 197,\n",
       "             92500: 171,\n",
       "             97500: 148,\n",
       "             102500: 130,\n",
       "             107500: 111,\n",
       "             112500: 97,\n",
       "             117500: 86,\n",
       "             122500: 77,\n",
       "             127500: 67,\n",
       "             132500: 59,\n",
       "             137500: 52,\n",
       "             142500: 46,\n",
       "             147500: 41,\n",
       "             152500: 38,\n",
       "             157500: 33,\n",
       "             162500: 29,\n",
       "             167500: 26,\n",
       "             172500: 23,\n",
       "             177500: 21,\n",
       "             182500: 20,\n",
       "             187500: 17,\n",
       "             192500: 16,\n",
       "             197500: 15,\n",
       "             202500: 10,\n",
       "             207500: 10,\n",
       "             212500: 10,\n",
       "             217500: 10,\n",
       "             222500: 10,\n",
       "             227500: 10,\n",
       "             232500: 10,\n",
       "             237500: 10,\n",
       "             242500: 10,\n",
       "             247500: 10,\n",
       "             252500: 5,\n",
       "             257500: 5,\n",
       "             262500: 5,\n",
       "             267500: 5,\n",
       "             272500: 5,\n",
       "             277500: 5,\n",
       "             282500: 5,\n",
       "             287500: 5,\n",
       "             292500: 5,\n",
       "             297500: 5,\n",
       "             302500: 3,\n",
       "             307500: 3,\n",
       "             312500: 3,\n",
       "             317500: 3,\n",
       "             322500: 3,\n",
       "             327500: 3,\n",
       "             332500: 3,\n",
       "             337500: 3,\n",
       "             342500: 3,\n",
       "             347500: 3,\n",
       "             352500: 2,\n",
       "             357500: 2,\n",
       "             362500: 2,\n",
       "             367500: 2,\n",
       "             372500: 2,\n",
       "             377500: 2,\n",
       "             382500: 2,\n",
       "             387500: 2,\n",
       "             392500: 2,\n",
       "             397500: 2,\n",
       "             402500: 1,\n",
       "             407500: 1,\n",
       "             412500: 1,\n",
       "             417500: 1,\n",
       "             422500: 1,\n",
       "             427500: 1,\n",
       "             432500: 1,\n",
       "             437500: 1,\n",
       "             442500: 1,\n",
       "             447500: 1,\n",
       "             452500: 1,\n",
       "             457500: 1,\n",
       "             462500: 1,\n",
       "             467500: 1,\n",
       "             472500: 1,\n",
       "             477500: 1,\n",
       "             482500: 1,\n",
       "             487500: 1,\n",
       "             492500: 1,\n",
       "             497500: 1,\n",
       "             502500: 1,\n",
       "             507500: 1,\n",
       "             512500: 1,\n",
       "             517500: 1,\n",
       "             522500: 1,\n",
       "             527500: 1,\n",
       "             532500: 1,\n",
       "             537500: 1,\n",
       "             542500: 1,\n",
       "             547500: 1,\n",
       "             552500: 1,\n",
       "             557500: 1,\n",
       "             562500: 1,\n",
       "             567500: 1,\n",
       "             572500: 1,\n",
       "             577500: 1,\n",
       "             582500: 1,\n",
       "             587500: 1,\n",
       "             592500: 1,\n",
       "             597500: 1,\n",
       "             602500: 1,\n",
       "             607500: 1,\n",
       "             612500: 1,\n",
       "             617500: 1,\n",
       "             622500: 1,\n",
       "             627500: 1,\n",
       "             632500: 1,\n",
       "             637500: 1,\n",
       "             642500: 1,\n",
       "             647500: 1,\n",
       "             652500: 1,\n",
       "             657500: 1,\n",
       "             662500: 1,\n",
       "             667500: 1,\n",
       "             1002500: 1,\n",
       "             1007500: 1,\n",
       "             1012500: 1,\n",
       "             1017500: 1,\n",
       "             1022500: 1,\n",
       "             1027500: 1,\n",
       "             1502500: 1,\n",
       "             1507500: 1,\n",
       "             2002500: 1})"
      ]
     },
     "execution_count": 47,
     "metadata": {},
     "output_type": "execute_result"
    }
   ],
   "source": [
    "d"
   ]
  },
  {
   "cell_type": "code",
   "execution_count": 99,
   "metadata": {
    "collapsed": true
   },
   "outputs": [],
   "source": [
    "f = Fitter(dataset, distributions=['johnsonsu'], timeout= 2400)"
   ]
  },
  {
   "cell_type": "code",
   "execution_count": 100,
   "metadata": {
    "collapsed": false,
    "scrolled": true
   },
   "outputs": [
    {
     "name": "stdout",
     "output_type": "stream",
     "text": [
      "Fitted johnsonsu distribution with error=3.2413142597e-11)\n"
     ]
    }
   ],
   "source": [
    "#f.load_all_distributions\n",
    "f.fit()\n",
    "# may take some time since by default, all distributions are tried\n",
    "# but you call manually provide a smaller set of distributions"
   ]
  },
  {
   "cell_type": "code",
   "execution_count": 101,
   "metadata": {
    "collapsed": false
   },
   "outputs": [
    {
     "data": {
      "text/html": [
       "<div>\n",
       "<table border=\"1\" class=\"dataframe\">\n",
       "  <thead>\n",
       "    <tr style=\"text-align: right;\">\n",
       "      <th></th>\n",
       "      <th>sumsquare_error</th>\n",
       "    </tr>\n",
       "  </thead>\n",
       "  <tbody>\n",
       "    <tr>\n",
       "      <th>johnsonsu</th>\n",
       "      <td>3.241314e-11</td>\n",
       "    </tr>\n",
       "  </tbody>\n",
       "</table>\n",
       "</div>"
      ],
      "text/plain": [
       "           sumsquare_error\n",
       "johnsonsu     3.241314e-11"
      ]
     },
     "execution_count": 101,
     "metadata": {},
     "output_type": "execute_result"
    }
   ],
   "source": [
    "f.summary()"
   ]
  },
  {
   "cell_type": "code",
   "execution_count": 102,
   "metadata": {
    "collapsed": false
   },
   "outputs": [
    {
     "data": {
      "text/plain": [
       "(-5.3839367311065747,\n",
       " 0.84376726932941271,\n",
       " -224.21280806585787,\n",
       " 79.661998696081355)"
      ]
     },
     "execution_count": 102,
     "metadata": {},
     "output_type": "execute_result"
    }
   ],
   "source": [
    "f.fitted_param['johnsonsu']"
   ]
  },
  {
   "cell_type": "code",
   "execution_count": 97,
   "metadata": {
    "collapsed": true
   },
   "outputs": [],
   "source": [
    "avg = (sum(dataset))/(len(dataset))"
   ]
  },
  {
   "cell_type": "code",
   "execution_count": 98,
   "metadata": {
    "collapsed": false
   },
   "outputs": [
    {
     "name": "stdout",
     "output_type": "stream",
     "text": [
      "42737\n"
     ]
    }
   ],
   "source": [
    "print avg"
   ]
  },
  {
   "cell_type": "code",
   "execution_count": 92,
   "metadata": {
    "collapsed": false
   },
   "outputs": [
    {
     "data": {
      "text/plain": [
       "(42737.174202549308, 60295.772020632685)"
      ]
     },
     "execution_count": 92,
     "metadata": {},
     "output_type": "execute_result"
    }
   ],
   "source": [
    "f.fitted_param['norm']"
   ]
  },
  {
   "cell_type": "code",
   "execution_count": 95,
   "metadata": {
    "collapsed": false
   },
   "outputs": [],
   "source": [
    "test = st.norm.rvs(42737.174202549308, 60295.772020632685, size = 1000)\n"
   ]
  },
  {
   "cell_type": "code",
   "execution_count": 96,
   "metadata": {
    "collapsed": false
   },
   "outputs": [
    {
     "data": {
      "text/plain": [
       "DescribeResult(nobs=1000, minmax=(-158709.28755753458, 217752.64754764977), mean=41285.580577998, variance=3888006702.5316191, skewness=0.04717657953212248, kurtosis=-0.13460872561181203)"
      ]
     },
     "execution_count": 96,
     "metadata": {},
     "output_type": "execute_result"
    }
   ],
   "source": [
    "st.describe(test)"
   ]
  },
  {
   "cell_type": "code",
   "execution_count": 91,
   "metadata": {
    "collapsed": false
   },
   "outputs": [],
   "source": [
    "Fitter(dataset).hist()"
   ]
  },
  {
   "cell_type": "code",
   "execution_count": 55,
   "metadata": {
    "collapsed": false
   },
   "outputs": [
    {
     "name": "stderr",
     "output_type": "stream",
     "text": [
      "/anaconda/envs/py27/lib/python2.7/site-packages/fitter/fitter.py:286: FutureWarning: sort(columns=....) is deprecated, use sort_values(by=.....)\n",
      "  name = self.df_errors.sort('sumsquare_error').iloc[0].name\n"
     ]
    },
    {
     "data": {
      "text/plain": [
       "{'johnsonsu': (-2.5925949227143801,\n",
       "  0.23062901070452838,\n",
       "  -0.13482958888926788,\n",
       "  2.8744861675804678)}"
      ]
     },
     "execution_count": 55,
     "metadata": {},
     "output_type": "execute_result"
    }
   ],
   "source": [
    "f.get_best()"
   ]
  },
  {
   "cell_type": "code",
   "execution_count": 56,
   "metadata": {
    "collapsed": true
   },
   "outputs": [],
   "source": [
    "f.hist()"
   ]
  },
  {
   "cell_type": "code",
   "execution_count": 63,
   "metadata": {
    "collapsed": false
   },
   "outputs": [
    {
     "data": {
      "text/plain": [
       "array([  3.61389600e-07,   1.11166231e-07,   6.28650645e-08,\n",
       "         4.28598476e-08,   3.20692997e-08,   2.53783777e-08,\n",
       "         2.08522620e-08,   1.76020086e-08,   1.51638019e-08,\n",
       "         1.32727519e-08,   1.17669660e-08,   1.05421305e-08,\n",
       "         9.52811948e-09,   8.67611903e-09,   7.95114574e-09,\n",
       "         7.32750017e-09,   6.78589703e-09,   6.31159413e-09,\n",
       "         5.89313771e-09,   5.52150014e-09,   5.18947436e-09,\n",
       "         4.89124027e-09,   4.62204890e-09,   4.37798868e-09,\n",
       "         4.15581013e-09,   3.95279257e-09,   3.76664162e-09,\n",
       "         3.59540956e-09,   3.43743281e-09,   3.29128235e-09,\n",
       "         3.15572418e-09,   3.02968743e-09,   2.91223851e-09,\n",
       "         2.80256000e-09,   2.69993330e-09,   2.60372426e-09,\n",
       "         2.51337125e-09,   2.42837519e-09,   2.34829115e-09,\n",
       "         2.27272130e-09,   2.20130885e-09,   2.13373299e-09,\n",
       "         2.06970448e-09,   2.00896194e-09,   1.95126855e-09,\n",
       "         1.89640933e-09,   1.84418863e-09,   1.79442810e-09,\n",
       "         1.74696480e-09,   1.70164958e-09,   1.65834569e-09,\n",
       "         1.61692754e-09,   1.57727956e-09,   1.53929527e-09,\n",
       "         1.50287638e-09,   1.46793205e-09,   1.43437820e-09,\n",
       "         1.40213688e-09,   1.37113577e-09,   1.34130764e-09,\n",
       "         1.31258994e-09,   1.28492441e-09,   1.25825671e-09,\n",
       "         1.23253609e-09,   1.20771512e-09,   1.18374944e-09,\n",
       "         1.16059746e-09,   1.13822023e-09,   1.11658117e-09,\n",
       "         1.09564592e-09,   1.07538218e-09,   1.05575956e-09,\n",
       "         1.03674944e-09,   1.01832482e-09,   1.00046027e-09,\n",
       "         9.83131733e-10,   9.66316520e-10,   9.49993158e-10,\n",
       "         9.34141335e-10,   9.18741818e-10,   9.03776382e-10,\n",
       "         8.89227749e-10,   8.75079523e-10,   8.61316141e-10,\n",
       "         8.47922818e-10,   8.34885499e-10,   8.22190819e-10,\n",
       "         8.09826055e-10,   7.97779096e-10,   7.86038401e-10,\n",
       "         7.74592971e-10,   7.63432314e-10,   7.52546419e-10,\n",
       "         7.41925728e-10,   7.31561111e-10,   7.21443845e-10,\n",
       "         7.11565586e-10,   7.01918357e-10,   6.92494521e-10,\n",
       "         6.83286768e-10])"
      ]
     },
     "execution_count": 63,
     "metadata": {},
     "output_type": "execute_result"
    }
   ],
   "source": [
    "f.fitted_pdf['johnsonsu']"
   ]
  },
  {
   "cell_type": "code",
   "execution_count": 29,
   "metadata": {
    "collapsed": true
   },
   "outputs": [],
   "source": [
    "income_fitted_model = ct.OrderedDict()"
   ]
  },
  {
   "cell_type": "code",
   "execution_count": 30,
   "metadata": {
    "collapsed": false
   },
   "outputs": [],
   "source": [
    "income_fitted_model['johnsonsu'] = f.fitted_param['johnsonsu']\n",
    "income_fitted_model['halfgennorm'] = f.fitted_param['halfgennorm']\n",
    "income_fitted_model['exponpow'] = f.fitted_param['exponpow']\n",
    "income_fitted_model['nakagami'] = f.fitted_param['nakagami']\n",
    "income_fitted_model['beta'] = f.fitted_param['beta']"
   ]
  },
  {
   "cell_type": "code",
   "execution_count": 33,
   "metadata": {
    "collapsed": true
   },
   "outputs": [],
   "source": [
    "a = income_fitted_model['johnsonsu'] \n",
    "b = income_fitted_model['halfgennorm'] \n",
    "c = income_fitted_model['exponpow'] \n",
    "d = income_fitted_model['nakagami']\n",
    "e = income_fitted_model['beta']"
   ]
  },
  {
   "cell_type": "code",
   "execution_count": 52,
   "metadata": {
    "collapsed": false
   },
   "outputs": [
    {
     "data": {
      "text/plain": [
       "(-2.5925949227143801,\n",
       " 0.23062901070452838,\n",
       " -0.13482958888926788,\n",
       " 2.8744861675804678)"
      ]
     },
     "execution_count": 52,
     "metadata": {},
     "output_type": "execute_result"
    }
   ],
   "source": [
    "f.fitted_param['johnsonsu']"
   ]
  },
  {
   "cell_type": "code",
   "execution_count": 53,
   "metadata": {
    "collapsed": false
   },
   "outputs": [
    {
     "data": {
      "text/plain": [
       "(0.13589216091592704, -1.6484873514734884e-18, 2.5515163406146018)"
      ]
     },
     "execution_count": 53,
     "metadata": {},
     "output_type": "execute_result"
    }
   ],
   "source": [
    "f.fitted_param['halfgennorm']"
   ]
  },
  {
   "cell_type": "code",
   "execution_count": 51,
   "metadata": {
    "collapsed": false
   },
   "outputs": [
    {
     "data": {
      "text/plain": [
       "array([  3.61389600e-07,   1.11166231e-07,   6.28650645e-08,\n",
       "         4.28598476e-08,   3.20692997e-08,   2.53783777e-08,\n",
       "         2.08522620e-08,   1.76020086e-08,   1.51638019e-08,\n",
       "         1.32727519e-08,   1.17669660e-08,   1.05421305e-08,\n",
       "         9.52811948e-09,   8.67611903e-09,   7.95114574e-09,\n",
       "         7.32750017e-09,   6.78589703e-09,   6.31159413e-09,\n",
       "         5.89313771e-09,   5.52150014e-09,   5.18947436e-09,\n",
       "         4.89124027e-09,   4.62204890e-09,   4.37798868e-09,\n",
       "         4.15581013e-09,   3.95279257e-09,   3.76664162e-09,\n",
       "         3.59540956e-09,   3.43743281e-09,   3.29128235e-09,\n",
       "         3.15572418e-09,   3.02968743e-09,   2.91223851e-09,\n",
       "         2.80256000e-09,   2.69993330e-09,   2.60372426e-09,\n",
       "         2.51337125e-09,   2.42837519e-09,   2.34829115e-09,\n",
       "         2.27272130e-09,   2.20130885e-09,   2.13373299e-09,\n",
       "         2.06970448e-09,   2.00896194e-09,   1.95126855e-09,\n",
       "         1.89640933e-09,   1.84418863e-09,   1.79442810e-09,\n",
       "         1.74696480e-09,   1.70164958e-09,   1.65834569e-09,\n",
       "         1.61692754e-09,   1.57727956e-09,   1.53929527e-09,\n",
       "         1.50287638e-09,   1.46793205e-09,   1.43437820e-09,\n",
       "         1.40213688e-09,   1.37113577e-09,   1.34130764e-09,\n",
       "         1.31258994e-09,   1.28492441e-09,   1.25825671e-09,\n",
       "         1.23253609e-09,   1.20771512e-09,   1.18374944e-09,\n",
       "         1.16059746e-09,   1.13822023e-09,   1.11658117e-09,\n",
       "         1.09564592e-09,   1.07538218e-09,   1.05575956e-09,\n",
       "         1.03674944e-09,   1.01832482e-09,   1.00046027e-09,\n",
       "         9.83131733e-10,   9.66316520e-10,   9.49993158e-10,\n",
       "         9.34141335e-10,   9.18741818e-10,   9.03776382e-10,\n",
       "         8.89227749e-10,   8.75079523e-10,   8.61316141e-10,\n",
       "         8.47922818e-10,   8.34885499e-10,   8.22190819e-10,\n",
       "         8.09826055e-10,   7.97779096e-10,   7.86038401e-10,\n",
       "         7.74592971e-10,   7.63432314e-10,   7.52546419e-10,\n",
       "         7.41925728e-10,   7.31561111e-10,   7.21443845e-10,\n",
       "         7.11565586e-10,   7.01918357e-10,   6.92494521e-10,\n",
       "         6.83286768e-10])"
      ]
     },
     "execution_count": 51,
     "metadata": {},
     "output_type": "execute_result"
    }
   ],
   "source": [
    "f.fitted_pdf['johnsonsu']"
   ]
  },
  {
   "cell_type": "code",
   "execution_count": null,
   "metadata": {
    "collapsed": false
   },
   "outputs": [],
   "source": [
    "for k,v in income_fitted_model.iteritems():\n",
    "    "
   ]
  },
  {
   "cell_type": "code",
   "execution_count": 35,
   "metadata": {
    "collapsed": false
   },
   "outputs": [
    {
     "name": "stdout",
     "output_type": "stream",
     "text": [
      "(-2.5925949227143801, 0.23062901070452838, -0.13482958888926788, 2.8744861675804678)\n",
      "(0.13589216091592704, -1.6484873514734884e-18, 2.5515163406146018)\n",
      "(0.25418484938554409, -1.2146419987912331e-22, 32838746.366294786)\n",
      "(0.1003975508076482, -3.1506072476069678e-22, 30059383.169162624)\n",
      "(0.39286555045306815, 1.9601015634252006, -6.1230647986438251e-19, 56707293.666068301)\n"
     ]
    }
   ],
   "source": [
    "print(a)\n",
    "print(b)\n",
    "print(c)\n",
    "print(d)\n",
    "print(e)"
   ]
  },
  {
   "cell_type": "code",
   "execution_count": 36,
   "metadata": {
    "collapsed": true
   },
   "outputs": [],
   "source": [
    "a = [-2.5925949227143801, 0.23062901070452838, -0.13482958888926788, 2.8744861675804678]\n",
    "b = [0.13589216091592704, -1.6484873514734884e-18, 2.5515163406146018]\n",
    "c = [0.25418484938554409, -1.2146419987912331e-22, 32838746.366294786]\n",
    "d = [0.1003975508076482, -3.1506072476069678e-22, 30059383.169162624]\n",
    "e = [0.39286555045306815, 1.9601015634252006, -6.1230647986438251e-19, 56707293.666068301]"
   ]
  },
  {
   "cell_type": "code",
   "execution_count": null,
   "metadata": {
    "collapsed": true
   },
   "outputs": [],
   "source": [
    "test = []\n",
    "for i in range(0,100):\n",
    "    test.append(st.foldcauchy.rvs(loc = a[0],scale = a[1],size = a[2]))\n",
    "\n",
    "print test\n"
   ]
  },
  {
   "cell_type": "code",
   "execution_count": null,
   "metadata": {
    "collapsed": true
   },
   "outputs": [],
   "source": [
    "st.foldcauchy.rvs(loc = a[0],scale = a[1],size = a[2])"
   ]
  },
  {
   "cell_type": "code",
   "execution_count": null,
   "metadata": {
    "collapsed": false
   },
   "outputs": [],
   "source": [
    "import scipy.stats as ss\n",
    "import numpy as np\n",
    "import matplotlib.pyplot as plt\n",
    "#alpha, loc, beta=b[0], b[1], b[2]\n",
    "#data = ss.foldcauchy.rvs(alpha,loc=loc,scale=beta,size=10000)\n",
    "\n",
    "a = income_fitted_model['foldnorm']\n",
    "myHist = plt.hist(df, 2000, normed=True)\n",
    "rv = ss.foldnorm(a[0],a[1],a[2])\n",
    "x = np.linspace(0,50000) \n",
    "h = plt.plot(x, rv.pdf(x), lw=2)\n",
    "\n",
    "axes = plt.gca()\n",
    "axes.set_xlim([0,1500000])\n",
    "plt.show()\n"
   ]
  },
  {
   "cell_type": "code",
   "execution_count": null,
   "metadata": {
    "collapsed": true
   },
   "outputs": [],
   "source": []
  }
 ],
 "metadata": {
  "anaconda-cloud": {},
  "kernelspec": {
   "display_name": "Python 2",
   "language": "python",
   "name": "python2"
  },
  "language_info": {
   "codemirror_mode": {
    "name": "ipython",
    "version": 2
   },
   "file_extension": ".py",
   "mimetype": "text/x-python",
   "name": "python",
   "nbconvert_exporter": "python",
   "pygments_lexer": "ipython2",
   "version": "2.7.13"
  }
 },
 "nbformat": 4,
 "nbformat_minor": 1
}
